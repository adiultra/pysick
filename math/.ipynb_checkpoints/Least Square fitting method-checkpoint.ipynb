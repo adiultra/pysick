{
 "cells": [
  {
   "cell_type": "code",
   "execution_count": 54,
   "metadata": {},
   "outputs": [
    {
     "data": {
      "text/plain": [
       "<matplotlib.collections.PathCollection at 0x7f74252b1a20>"
      ]
     },
     "execution_count": 54,
     "metadata": {},
     "output_type": "execute_result"
    },
    {
     "data": {
      "image/png": "[encoded data removed]",
      "text/plain": [
       "<Figure size 432x288 with 1 Axes>"
      ]
     },
     "metadata": {},
     "output_type": "display_data"
    }
   ],
   "source": [
    "import numpy as np\n",
    "from matplotlib import pyplot as plt\n",
    "\n",
    "data_points = np.array([\n",
    "    [ 4936.490,     0],\n",
    "    [ 7264.623,   0.7],\n",
    "    [ 9005.072,  10.4],\n",
    "    [10343.531,  37.0],\n",
    "    [11441.591,  77.4],\n",
    "    [12391.082, 122.8],\n",
    "    [13245.908, 169.5],\n",
    "    [14038.782, 216.0],\n",
    "    [14727.344, 254.0],\n",
    "    [15398.375, 286.0],\n",
    "    [15997.332, 314.0],\n",
    "    [16597.289, 336.0]\n",
    "])\n",
    "\n",
    "x, y = data_points.T\n",
    "plt.scatter(x,y)"
   ]
  },
  {
   "cell_type": "code",
   "execution_count": 55,
   "metadata": {},
   "outputs": [
    {
     "name": "stdout",
     "output_type": "stream",
     "text": [
      "[ 2.70073257e-02 -1.93618101e+02] (-193.61810056413904, 0.02700732571799571)\n"
     ]
    }
   ],
   "source": [
    "a = ( np.mean(y)*sum([i*i for i in x]) - np.mean(x)*sum(np.multiply(x, y)) ) / (sum([i*i for i in x]) - len(x)*np.mean(x)**2)\n",
    "b = ( sum(np.multiply(x, y)) - len(x)*np.mean(x)*np.mean(y) ) / (sum([i*i for i in x]) - len(x)*np.mean(x)**2)\n",
    "\n",
    "line = np.polyfit(x, y, 1)\n",
    "print(line, (a,b))"
   ]
  },
  {
   "cell_type": "code",
   "execution_count": 56,
   "metadata": {},
   "outputs": [
    {
     "data": {
      "image/png": "[encoded data removed]",
      "text/plain": [
       "<Figure size 432x288 with 1 Axes>"
      ]
     },
     "metadata": {},
     "output_type": "display_data"
    }
   ],
   "source": [
    "def lineeqn(xo):\n",
    "    return line[0]*xo + line[1]\n",
    "\n",
    "plt.plot(x, y, 'bo')\n",
    "plt.plot(x, lineeqn(x))\n",
    "plt.grid()\n",
    "plt.show()"
   ]
  },
  {
   "cell_type": "code",
   "execution_count": 60,
   "metadata": {
    "scrolled": false
   },
   "outputs": [
    {
     "data": {
      "text/plain": [
       "([9.530901194388259e-06,\n",
       "  6.499896613641987e-06,\n",
       "  5.5053861242959185e-06,\n",
       "  5.417898243557803e-06,\n",
       "  5.755965095858233e-06,\n",
       "  6.2052368338039965e-06,\n",
       "  6.661506212868586e-06,\n",
       "  7.090159134680325e-06,\n",
       "  7.385662916347016e-06],\n",
       " 6.67251248549357e-06)"
      ]
     },
     "execution_count": 60,
     "metadata": {},
     "output_type": "execute_result"
    }
   ],
   "source": [
    "vsd = [j - line[1] for j in y]\n",
    "\n",
    "stefs = []\n",
    "for l in range(len(vsd)):\n",
    "    stefs.append(2.43*10**(-4)*vsd[l]/x[l])\n",
    "\n",
    "stefs, np.mean(stefs)"
   ]
  },
  {
   "cell_type": "code",
   "execution_count": 58,
   "metadata": {},
   "outputs": [
    {
     "data": {
      "text/plain": [
       "7.090159134680325e-09"
      ]
     },
     "execution_count": 58,
     "metadata": {},
     "output_type": "execute_result"
    }
   ],
   "source": [
    "stef = 2.43*10**(-4)*(216.0-line[1])/14038.782*10**-3\n",
    "stef"
   ]
  }
 ],
 "metadata": {
  "kernelspec": {
   "display_name": "Python 3",
   "language": "python",
   "name": "python3"
  },
  "language_info": {
   "codemirror_mode": {
    "name": "ipython",
    "version": 3
   },
   "file_extension": ".py",
   "mimetype": "text/x-python",
   "name": "python",
   "nbconvert_exporter": "python",
   "pygments_lexer": "ipython3",
   "version": "3.6.5"
  }
 },
 "nbformat": 4,
 "nbformat_minor": 2
}
